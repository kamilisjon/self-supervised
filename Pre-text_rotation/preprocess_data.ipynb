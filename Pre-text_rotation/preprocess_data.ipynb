{
 "cells": [
  {
   "cell_type": "markdown",
   "id": "8b98e225",
   "metadata": {},
   "source": [
    "## Import necessary libraries"
   ]
  },
  {
   "cell_type": "code",
   "execution_count": null,
   "id": "7757ed40",
   "metadata": {},
   "outputs": [],
   "source": [
    "import os\n",
    "import cv2\n",
    "import numpy as np\n",
    "import matplotlib.pyplot as plt\n",
    "\n",
    "from sklearn.model_selection import train_test_split"
   ]
  },
  {
   "cell_type": "code",
   "execution_count": null,
   "id": "b84d81cb",
   "metadata": {},
   "outputs": [],
   "source": [
    "DATA_ROOT = \"E:\\\\Datasets\\\\Br35H\\\\\""
   ]
  },
  {
   "cell_type": "markdown",
   "id": "47eaf33e",
   "metadata": {},
   "source": [
    "## Load necessary functions"
   ]
  },
  {
   "cell_type": "code",
   "execution_count": null,
   "id": "648bfd41",
   "metadata": {},
   "outputs": [],
   "source": [
    "def load_dataset(dataset_folder: str, split_type = 'train'):\n",
    "    print(f\"Loading {split_type} set of {dataset_folder} dataset\")\n",
    "    dataset_path = os.path.join(DATA_ROOT, dataset_folder)\n",
    "    categories = os.listdir(os.path.join(dataset_path, split_type))\n",
    "\n",
    "    X = []\n",
    "    Y = []\n",
    "    for category in categories:\n",
    "        category_path = os.path.join(dataset_path, split_type, category)\n",
    "        category_index = categories.index(category)\n",
    "        for image_name in os.listdir(category_path):\n",
    "            image_path = os.path.join(dataset_path, split_type, category, image_name)\n",
    "            image = cv2.imread(image_path)\n",
    "            image = cv2.resize(image, (128, 128))\n",
    "            X.append(image)\n",
    "            Y.append(category_index) \n",
    "            \n",
    "    print(f\"Loading done. Dataset size: {len(X)}\\n\")\n",
    "            \n",
    "    return X, Y"
   ]
  },
  {
   "cell_type": "code",
   "execution_count": null,
   "id": "d6143225",
   "metadata": {},
   "outputs": [],
   "source": [
    "def write_dataset(X, Y, dataset_folder: str, split_type: str):\n",
    "    print(f\"Writing {split_type} set of {dataset_folder} dataset\")\n",
    "    i = 0\n",
    "    dataset_path = os.path.join(DATA_ROOT, dataset_folder)\n",
    "    \n",
    "    try:\n",
    "        os.mkdir(dataset_path)\n",
    "    except:\n",
    "        print(f'W folder {dataset_path} already exists')\n",
    "    \n",
    "    try:\n",
    "        os.mkdir(os.path.join(dataset_path, split_type))\n",
    "    except:\n",
    "        print(f'W folder {os.path.join(dataset_path, split_type)} already exists')\n",
    "        \n",
    "    for category in set(Y):\n",
    "        os.mkdir(os.path.join(dataset_path, split_type, str(category)))\n",
    "        \n",
    "    for image, category in zip(X, Y):\n",
    "        image_name = f\"{str(category)}_{str(i)}.jpg\"\n",
    "        i+=1\n",
    "        dst = os.path.join(dataset_path, split_type, str(category), image_name)\n",
    "        cv2.imwrite(dst, image)\n",
    "        \n",
    "    print(\"Writing done\")"
   ]
  },
  {
   "cell_type": "code",
   "execution_count": null,
   "id": "b583ee8e",
   "metadata": {},
   "outputs": [],
   "source": [
    "from scipy import ndimage\n",
    "\n",
    "def rotate_dataset_imgs(X, angle: int):\n",
    "    rotated_X = []\n",
    "    for image in X:\n",
    "        h, w = image.shape[:2]\n",
    "        rotated = ndimage.rotate(image, angle)\n",
    "        rotated = cv2.resize(rotated, (h, w))\n",
    "        rotated_X.append(rotated)\n",
    "    \n",
    "    return rotated_X"
   ]
  },
  {
   "cell_type": "markdown",
   "id": "cd4c7be9",
   "metadata": {},
   "source": [
    "## Create rotated image datasets"
   ]
  },
  {
   "cell_type": "code",
   "execution_count": null,
   "id": "9908dfaf",
   "metadata": {
    "scrolled": true
   },
   "outputs": [],
   "source": [
    "X_pre_text, Y_pre_text = load_dataset('data_v1.0.0','pre_text')\n",
    "X_pre_text=np.array(X_pre_text).reshape(-1, 128, 128, 3)"
   ]
  },
  {
   "cell_type": "code",
   "execution_count": null,
   "id": "925606f4",
   "metadata": {},
   "outputs": [],
   "source": [
    "pre_text_len = len(X_pre_text)\n",
    "# X_train_2 dataset will contain images rotated by 2 degrees(No rotation)\n",
    "X_train_2=rotate_dataset_imgs(X_pre_text, -2)\n",
    "\n",
    "# X_train_4 dataset will contain images rotated by 4 degrees\n",
    "X_train_4=rotate_dataset_imgs(X_pre_text, -4)\n",
    "\n",
    "# X_train_6 dataset will contain images rotated by 6 degrees\n",
    "X_train_6=rotate_dataset_imgs(X_pre_text, -6)\n",
    "\n",
    "# X_train_8 dataset will contain images rotated by 8 degrees\n",
    "X_train_8=rotate_dataset_imgs(X_pre_text, -8)\n",
    "\n",
    "# X_train_10 dataset will contain images rotated by 10 degrees\n",
    "X_train_10=rotate_dataset_imgs(X_pre_text, -10)\n",
    "\n",
    "# Assigning pseudo-labels to rotated image datasets\n",
    "Y_train_2=np.full(pre_text_len, 0)\n",
    "Y_train_4=np.full(pre_text_len, 1)\n",
    "Y_train_6=np.full(pre_text_len, 2)\n",
    "Y_train_8=np.full(pre_text_len, 3)\n",
    "Y_train_10=np.full(pre_text_len, 4)"
   ]
  },
  {
   "cell_type": "code",
   "execution_count": null,
   "id": "b361acfa",
   "metadata": {},
   "outputs": [],
   "source": [
    "# Visualize samples from X_train_2\n",
    "plt.figure(figsize=(12,10))\n",
    "i=1\n",
    "for row in range(4):\n",
    "    for column in range(5):\n",
    "        plt.subplot(4, 5, i)\n",
    "        image = X_train_2[i]\n",
    "        plt.imshow(image)\n",
    "        plt.axis('off')\n",
    "        i += 1"
   ]
  },
  {
   "cell_type": "code",
   "execution_count": null,
   "id": "b5b64fee",
   "metadata": {},
   "outputs": [],
   "source": [
    "# Concatenating Datasets\n",
    "X_train_unlabeled_full=np.concatenate((X_train_2, X_train_4, X_train_6, X_train_8, X_train_10), axis=0)\n",
    "Y_train_unlabeled_full=np.concatenate((Y_train_2, Y_train_4, Y_train_6, Y_train_8, Y_train_10), axis=0)"
   ]
  },
  {
   "cell_type": "code",
   "execution_count": null,
   "id": "983eaf98",
   "metadata": {},
   "outputs": [],
   "source": [
    "# Split rotated data\n",
    "X_rot_train, X_rot_val, Y_rot_train, Y_rot_val = train_test_split(X_train_unlabeled_full, Y_train_unlabeled_full, train_size=0.80, stratify = Y_train_unlabeled_full)"
   ]
  },
  {
   "cell_type": "code",
   "execution_count": null,
   "id": "bdbba1c7",
   "metadata": {},
   "outputs": [],
   "source": [
    "write_dataset(X_rot_train, Y_rot_train, 'data_v1.3.0','train')\n",
    "write_dataset(X_rot_val, Y_rot_val, 'data_v1.3.0','val')"
   ]
  },
  {
   "cell_type": "markdown",
   "id": "cee50501",
   "metadata": {},
   "source": [
    "## Split train set into smaller sets"
   ]
  },
  {
   "cell_type": "code",
   "execution_count": null,
   "id": "57be4af1",
   "metadata": {},
   "outputs": [],
   "source": [
    "X_train, Y_train = load_dataset('data_v1.0.0','train')\n",
    "X_train=np.array(X_train).reshape(-1, 128, 128, 3)\n",
    "X_train_smaller, _, Y_train_smaller, _ = train_test_split(X_train, Y_train, train_size=0.125, stratify = Y_train, random_state=351)\n",
    "write_dataset(X_train_smaller, Y_train_smaller, 'data_v1.0.3','train')"
   ]
  }
 ],
 "metadata": {
  "kernelspec": {
   "display_name": "Python 3 (ipykernel)",
   "language": "python",
   "name": "python3"
  },
  "language_info": {
   "codemirror_mode": {
    "name": "ipython",
    "version": 3
   },
   "file_extension": ".py",
   "mimetype": "text/x-python",
   "name": "python",
   "nbconvert_exporter": "python",
   "pygments_lexer": "ipython3",
   "version": "3.9.12"
  }
 },
 "nbformat": 4,
 "nbformat_minor": 5
}
