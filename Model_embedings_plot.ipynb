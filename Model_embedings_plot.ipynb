{
 "cells": [
  {
   "cell_type": "code",
   "execution_count": 1,
   "id": "a63c9923",
   "metadata": {},
   "outputs": [
    {
     "name": "stdout",
     "output_type": "stream",
     "text": [
      "Tensorflow recognized 1 GPUs\n"
     ]
    }
   ],
   "source": [
    "import os\n",
    "import glob\n",
    "import numpy as np\n",
    "from matplotlib import pyplot as plt\n",
    "from matplotlib import cm\n",
    "\n",
    "import tensorflow as tf\n",
    "from tf_keras_vis.utils import num_of_gpus\n",
    "\n",
    "_, gpus = num_of_gpus()\n",
    "print('Tensorflow recognized {} GPUs'.format(gpus))\n",
    "\n",
    "DATA_ROOT = \"C:\\\\Users\\\\Student\\\\Desktop\\\\Kamilio\\\\Br35H\"\n",
    "IMG_SIZE = 128"
   ]
  },
  {
   "cell_type": "markdown",
   "id": "7e2fcc97",
   "metadata": {},
   "source": [
    "# Dataset loading functions"
   ]
  },
  {
   "cell_type": "code",
   "execution_count": 2,
   "id": "c5b81dba",
   "metadata": {},
   "outputs": [],
   "source": [
    "import os\n",
    "import albumentations as A\n",
    "AUTOTUNE = tf.data.AUTOTUNE\n",
    "from functools import partial\n",
    "\n",
    "transforms = A.Compose([\n",
    "    A.Affine(scale = (2, 2), keep_ratio=True, p=1)\n",
    "])\n",
    "\n",
    "def get_classes(dataset_name):\n",
    "    #TODO add functionality to pop error if classes in data splits do not match\n",
    "    class_names = os.listdir(os.path.join(DATA_ROOT, dataset_name, \"train\"))\n",
    "    class_names = [int(name) for name in class_names]\n",
    "    class_names.sort()\n",
    "    class_names = [str(name) for name in class_names]\n",
    "    print(class_names)\n",
    "    return class_names\n",
    "\n",
    "\n",
    "def get_classes_dict(dataset_name):\n",
    "    class_names = get_classes(dataset_name)\n",
    "    class_names_dict = {}\n",
    "    for class_name in class_names:\n",
    "        image_sample_name = os.path.basename(glob.glob(os.path.join(DATA_ROOT, dataset_name, \"train\", str(class_name),'*'))[0])\n",
    "        class_names_dict[str(class_name)] = image_sample_name.split('_')[1]\n",
    "    return class_names_dict\n",
    "\n",
    "def get_classes_dict_empty_lists(dataset_name):\n",
    "    class_names = get_classes(dataset_name)\n",
    "    class_names_dict = {}\n",
    "    for class_name in class_names:\n",
    "        class_names_dict[str(class_name)] = []\n",
    "    return class_names_dict\n",
    "\n",
    "def get_label(file_path):\n",
    "    # Convert the path to a list of path components\n",
    "    parts = tf.strings.split(file_path, os.path.sep)\n",
    "    # The second to last is the class-directory\n",
    "    # TODO: pass CLASS_NAMES as function parameter\n",
    "    one_hot = parts[-2] == CLASS_NAMES\n",
    "    # Integer encode the label\n",
    "    return int(one_hot)\n",
    "\n",
    "def decode_img(img):\n",
    "    # Convert the compressed string to a 3D uint8 tensor\n",
    "    img = tf.io.decode_jpeg(img, channels=3)\n",
    "    return img\n",
    "\n",
    "def aug_fn(image):\n",
    "    data = {\"image\":image}\n",
    "    aug_data = transforms(**data)\n",
    "    aug_img = aug_data[\"image\"]\n",
    "    # Resize and norm the image\n",
    "    aug_img = tf.image.resize(aug_img, size=[IMG_SIZE, IMG_SIZE])\n",
    "    return aug_img\n",
    "\n",
    "def apply_transformations(image):\n",
    "    aug_img = tf.numpy_function(func=aug_fn, inp=[image], Tout=tf.float32)\n",
    "    return aug_img\n",
    "\n",
    "def process_path(file_path, use_augmentations: bool):\n",
    "    label = get_label(file_path)\n",
    "    # Load the raw data from the file as a string\n",
    "    image = tf.io.read_file(file_path)\n",
    "    image = decode_img(image)\n",
    "    image = tf.cast(image/255, tf.float32)\n",
    "    if use_augmentations:\n",
    "        image = apply_transformations(image)\n",
    "    return image, label\n",
    "\n",
    "def load_dataset(dataset_name:str, split_type: str, use_transformations: bool, mini_batch_size: int):\n",
    "    global CLASS_NAMES\n",
    "    CLASS_NAMES = get_classes(dataset_name)\n",
    "    dataset = tf.data.Dataset.list_files(f\"{DATA_ROOT}\\\\{dataset_name}\\\\{split_type}\\\\*\\\\*\", shuffle=False)\n",
    "    dataset = dataset.shuffle(len(dataset), reshuffle_each_iteration=False)\n",
    "    dataset = dataset.map(partial(process_path, use_augmentations=use_transformations), num_parallel_calls=AUTOTUNE).batch(mini_batch_size)\n",
    "    return dataset"
   ]
  },
  {
   "cell_type": "markdown",
   "id": "e3279c69",
   "metadata": {},
   "source": [
    "# Model initialization functions"
   ]
  },
  {
   "cell_type": "code",
   "execution_count": 3,
   "id": "b9a972c6",
   "metadata": {},
   "outputs": [],
   "source": [
    "from tensorflow.keras.optimizers import Adam\n",
    "from tensorflow.keras.applications import EfficientNetB0\n",
    "from tensorflow.keras.applications import EfficientNetB3\n",
    "from tensorflow.keras.applications import EfficientNetB5\n",
    "from tensorflow.keras import layers\n",
    "\n",
    "def get_initial_weights_type(imagenet_pretrained_backbone: bool):\n",
    "    if imagenet_pretrained_backbone:\n",
    "        weights='imagenet'\n",
    "    else:\n",
    "        weights=None\n",
    "    return weights\n",
    "\n",
    "def rebuild_top(model, class_count: int, top_dropout_rate: float = 0):\n",
    "    # Rebuild top\n",
    "    x = layers.GlobalAveragePooling2D(name=\"avg_pool\")(model.output)\n",
    "    x = layers.BatchNormalization(name='batch_normalization')(x)\n",
    "    if top_dropout_rate != 0:\n",
    "        x = layers.Dropout(top_dropout_rate, name=\"top_dropout\")(x)\n",
    "    outputs = layers.Dense(class_count, activation=\"softmax\", name=\"pred\")(x)\n",
    "    return outputs\n",
    "\n",
    "def build_EffNetB0(class_count: int, imagenet_pretrained_backbone: bool, top_dropout_rate: float = 0):\n",
    "    \n",
    "    weights_type = get_initial_weights_type(imagenet_pretrained_backbone)\n",
    "    \n",
    "    inputs = layers.Input(shape=(IMG_SIZE, IMG_SIZE, 3))\n",
    "    model = EfficientNetB0(include_top=False, input_tensor=inputs, weights=weights_type)\n",
    "    outputs = rebuild_top(model, class_count, top_dropout_rate)\n",
    "\n",
    "    model = tf.keras.Model(inputs, outputs, name='EfficientNetB0')\n",
    "    print(\"EffNet0 model build successfull\")\n",
    "    \n",
    "    return model\n",
    "\n",
    "def build_EffNetB3(class_count: int, imagenet_pretrained_backbone: bool, top_dropout_rate: float = 0):\n",
    "    \n",
    "    weights_type = get_initial_weights_type(imagenet_pretrained_backbone)\n",
    "    \n",
    "    inputs = layers.Input(shape=(IMG_SIZE, IMG_SIZE, 3))\n",
    "    model = EfficientNetB3(include_top=False, input_tensor=inputs, weights=weights_type)\n",
    "    outputs = rebuild_top(model, class_count, top_dropout_rate)\n",
    "\n",
    "    model = tf.keras.Model(inputs, outputs, name='EfficientNetB3')\n",
    "    print(\"EffNet3 model build successfull\")\n",
    "    \n",
    "    return model\n",
    "\n",
    "def build_EffNetB5(class_count: int, imagenet_pretrained_backbone: bool, top_dropout_rate: float = 0):\n",
    "    \n",
    "    weights_type = get_initial_weights_type(imagenet_pretrained_backbone)\n",
    "    \n",
    "    inputs = layers.Input(shape=(IMG_SIZE, IMG_SIZE, 3))\n",
    "    model = EfficientNetB5(include_top=False, input_tensor=inputs, weights=weights_type)\n",
    "    outputs = rebuild_top(model, class_count, top_dropout_rate)\n",
    "\n",
    "    model = tf.keras.Model(inputs, outputs, name='EfficientNetB5')\n",
    "    print(\"EffNet5 model build successfull\")\n",
    "    \n",
    "    return model\n",
    "\n",
    "def build_model(class_count: int, imagenet_pretrained_backbone: bool, architecture: str,  top_dropout_rate: float = 0):\n",
    "    if architecture == \"EffNetB0\":\n",
    "        model = build_EffNetB0(class_count, imagenet_pretrained_backbone, top_dropout_rate)\n",
    "    elif architecture == \"EffNetB3\":\n",
    "        model = build_EffNetB3(class_count, imagenet_pretrained_backbone, top_dropout_rate)\n",
    "    elif architecture == \"EffNetB5\":\n",
    "        model = build_EffNetB5(class_count, imagenet_pretrained_backbone, top_dropout_rate)\n",
    "    else:\n",
    "        raise Exception(f\"Specified model architecture is not available\")\n",
    "        \n",
    "    return model\n",
    "\n",
    "\n"
   ]
  },
  {
   "cell_type": "markdown",
   "id": "0d36f267",
   "metadata": {},
   "source": [
    "# Load dataset"
   ]
  },
  {
   "cell_type": "code",
   "execution_count": 4,
   "id": "0ceae634",
   "metadata": {},
   "outputs": [
    {
     "name": "stdout",
     "output_type": "stream",
     "text": [
      "['0', '1']\n"
     ]
    }
   ],
   "source": [
    "dataset_name = \"data_v1.0.0\"\n",
    "\n",
    "map_dict = {'0': 'non-tumorous', '1': 'tumorous'}\n",
    "sample_dict = {'0': [], '1': []}\n",
    "\n",
    "ds = load_dataset(\n",
    "                  dataset_name = dataset_name, \n",
    "                  split_type = \"train\", \n",
    "                  use_transformations = False, \n",
    "                  mini_batch_size = 1)"
   ]
  },
  {
   "cell_type": "markdown",
   "id": "d008a17b",
   "metadata": {},
   "source": [
    "# Load downstream ImageNet or SSL pretrained model"
   ]
  },
  {
   "cell_type": "markdown",
   "id": "f38bab54",
   "metadata": {},
   "source": [
    "## ImageNet pretrained"
   ]
  },
  {
   "cell_type": "code",
   "execution_count": null,
   "id": "ec1187d7",
   "metadata": {},
   "outputs": [],
   "source": [
    "model = build_model(\n",
    "                    class_count = 2, \n",
    "                    imagenet_pretrained_backbone = True,\n",
    "                    architecture = 'EffNetB0',\n",
    "                    top_dropout_rate = 0.2)\n",
    "\n",
    "downstream_model_version = \"model_v3.0.4\"\n",
    "model.load_weights(f\"C:\\\\Users\\\\Student\\\\Desktop\\\\Kamilio\\\\models\\\\Downstream_v3\\\\{downstream_model_version}\\\\checkpoint\")"
   ]
  },
  {
   "cell_type": "markdown",
   "id": "43057689",
   "metadata": {},
   "source": [
    "## SSL pretrained"
   ]
  },
  {
   "cell_type": "code",
   "execution_count": 5,
   "id": "10c48b22",
   "metadata": {},
   "outputs": [],
   "source": [
    "downstream_model_version = \"model_v2.10.20\"\n",
    "model = tf.keras.models.load_model(f\"C:\\\\Users\\\\Student\\\\Desktop\\\\Kamilio\\\\models\\\\Downstream_v2\\\\{downstream_model_version}\")"
   ]
  },
  {
   "cell_type": "markdown",
   "id": "a9c581e7",
   "metadata": {},
   "source": [
    "# Modify model to output the feature vector"
   ]
  },
  {
   "cell_type": "code",
   "execution_count": 6,
   "id": "899b0c17",
   "metadata": {},
   "outputs": [],
   "source": [
    "# Reinitializing dense classification layer\n",
    "inputs = model.input\n",
    "x = model.layers[-5].output\n",
    "x_GAP = layers.GlobalAveragePooling2D(name=\"avg_pool\")(x)\n",
    "x = layers.BatchNormalization(name='batch_normalization')(x_GAP)\n",
    "top_dropout_rate = 0.2\n",
    "x = layers.Dropout(top_dropout_rate, name=\"top_dropout\")(x)\n",
    "outputs = layers.Dense(2, activation=\"softmax\", name=\"pred\")(x)\n",
    "\n",
    "model_GAP = tf.keras.Model(inputs, x_GAP)"
   ]
  },
  {
   "cell_type": "markdown",
   "id": "d85447c8",
   "metadata": {},
   "source": [
    "# Generate feature matrix (collumns - feature embedings, rows - features for images)"
   ]
  },
  {
   "cell_type": "code",
   "execution_count": null,
   "id": "1dcacc19",
   "metadata": {
    "scrolled": false
   },
   "outputs": [],
   "source": [
    "iterator=iter(ds)\n",
    "y_gt = []\n",
    "deep_features_list = []\n",
    "for _ in range(len(ds)):\n",
    "    sample = next(iterator)\n",
    "    deep_features = model_GAP.predict(sample[0])\n",
    "    label = tf.math.argmax(sample[1], axis=1).numpy()[0]\n",
    "    y_gt.append(str(label))\n",
    "    deep_features_list.append(list(deep_features[0]))\n",
    "\n",
    "features = np.array(deep_features_list)"
   ]
  },
  {
   "cell_type": "markdown",
   "id": "f6c06960",
   "metadata": {},
   "source": [
    "# PCA for feature embedings"
   ]
  },
  {
   "cell_type": "code",
   "execution_count": 9,
   "id": "528aa3ed",
   "metadata": {},
   "outputs": [],
   "source": [
    "from sklearn.decomposition import PCA\n",
    "import pandas as pd"
   ]
  },
  {
   "cell_type": "code",
   "execution_count": 10,
   "id": "6ad93c25",
   "metadata": {
    "scrolled": true
   },
   "outputs": [
    {
     "name": "stdout",
     "output_type": "stream",
     "text": [
      "(601, 1280)\n",
      "(601, 601)\n"
     ]
    }
   ],
   "source": [
    "print(features.shape)\n",
    "pca = PCA()\n",
    "pca.fit(features.T)\n",
    "print(pca.components_.shape)\n"
   ]
  },
  {
   "cell_type": "code",
   "execution_count": 11,
   "id": "9cc3a000",
   "metadata": {
    "scrolled": false
   },
   "outputs": [
    {
     "data": {
      "text/html": [
       "<div>\n",
       "<style scoped>\n",
       "    .dataframe tbody tr th:only-of-type {\n",
       "        vertical-align: middle;\n",
       "    }\n",
       "\n",
       "    .dataframe tbody tr th {\n",
       "        vertical-align: top;\n",
       "    }\n",
       "\n",
       "    .dataframe thead th {\n",
       "        text-align: right;\n",
       "    }\n",
       "</style>\n",
       "<table border=\"1\" class=\"dataframe\">\n",
       "  <thead>\n",
       "    <tr style=\"text-align: right;\">\n",
       "      <th></th>\n",
       "      <th>first</th>\n",
       "      <th>second</th>\n",
       "      <th>label</th>\n",
       "    </tr>\n",
       "  </thead>\n",
       "  <tbody>\n",
       "    <tr>\n",
       "      <th>0</th>\n",
       "      <td>-0.000445</td>\n",
       "      <td>0.040247</td>\n",
       "      <td>1</td>\n",
       "    </tr>\n",
       "    <tr>\n",
       "      <th>1</th>\n",
       "      <td>0.016133</td>\n",
       "      <td>0.008005</td>\n",
       "      <td>0</td>\n",
       "    </tr>\n",
       "    <tr>\n",
       "      <th>2</th>\n",
       "      <td>-0.000943</td>\n",
       "      <td>0.063759</td>\n",
       "      <td>1</td>\n",
       "    </tr>\n",
       "    <tr>\n",
       "      <th>3</th>\n",
       "      <td>-0.002134</td>\n",
       "      <td>0.064524</td>\n",
       "      <td>1</td>\n",
       "    </tr>\n",
       "    <tr>\n",
       "      <th>4</th>\n",
       "      <td>-0.000128</td>\n",
       "      <td>0.090288</td>\n",
       "      <td>1</td>\n",
       "    </tr>\n",
       "  </tbody>\n",
       "</table>\n",
       "</div>"
      ],
      "text/plain": [
       "      first    second label\n",
       "0 -0.000445  0.040247     1\n",
       "1  0.016133  0.008005     0\n",
       "2 -0.000943  0.063759     1\n",
       "3 -0.002134  0.064524     1\n",
       "4 -0.000128  0.090288     1"
      ]
     },
     "execution_count": 11,
     "metadata": {},
     "output_type": "execute_result"
    }
   ],
   "source": [
    "first_component = pca.components_[0,:]\n",
    "second_component = pca.components_[1,:]\n",
    "df = pd.DataFrame([first_component, second_component, y_gt])\n",
    "df = df.T\n",
    "df.columns = ['first', 'second', 'label']\n",
    "df.head()"
   ]
  },
  {
   "cell_type": "code",
   "execution_count": 15,
   "id": "6fb7a78a",
   "metadata": {},
   "outputs": [
    {
     "data": {
      "text/plain": [
       "Text(0, 0.5, 'second component')"
      ]
     },
     "execution_count": 15,
     "metadata": {},
     "output_type": "execute_result"
    },
    {
     "data": {
      "image/png": "[encoded data removed]",
      "text/plain": [
       "<Figure size 640x480 with 1 Axes>"
      ]
     },
     "metadata": {},
     "output_type": "display_data"
    }
   ],
   "source": [
    "colors = {'0':'red', '1':'green'}\n",
    "plt.scatter(df['first'], df['second'], c=df['label'].map(colors))\n",
    "plt.title(f\"{downstream_model_version} embeddings for train set of {dataset_name} dataset. First two components of PCA\")\n",
    "plt.xlabel('first component')\n",
    "plt.ylabel('second component')"
   ]
  },
  {
   "cell_type": "code",
   "execution_count": null,
   "id": "21c11586",
   "metadata": {},
   "outputs": [],
   "source": []
  }
 ],
 "metadata": {
  "kernelspec": {
   "display_name": "Python 3 (ipykernel)",
   "language": "python",
   "name": "python3"
  },
  "language_info": {
   "codemirror_mode": {
    "name": "ipython",
    "version": 3
   },
   "file_extension": ".py",
   "mimetype": "text/x-python",
   "name": "python",
   "nbconvert_exporter": "python",
   "pygments_lexer": "ipython3",
   "version": "3.8.15"
  }
 },
 "nbformat": 4,
 "nbformat_minor": 5
}
